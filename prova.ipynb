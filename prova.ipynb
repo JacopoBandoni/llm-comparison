{
 "cells": [
  {
   "cell_type": "code",
   "execution_count": 1,
   "metadata": {},
   "outputs": [],
   "source": [
    "from nlp_utils import get_explainability_json"
   ]
  },
  {
   "cell_type": "code",
   "execution_count": 2,
   "metadata": {},
   "outputs": [],
   "source": [
    "a = (\"Un cane mangiava la carota e poi è arrivato il gatto e ha fatto scappare molto velocemente il cane.\"\n",
    "        \"Cosa ne pensa il topo si domandò il vicino.\"\n",
    "        \"Il topo si stava nascondendo da entrambi perchè era impaurito.\")\n",
    "    \n",
    "b = \"\"\"Il gatto fa scappare il cane ed il topo si nasconde.\"\"\"\n",
    "\n",
    "exp_dict = get_explainability_json(source_text=a, response_text=b)"
   ]
  },
  {
   "cell_type": "code",
   "execution_count": 3,
   "metadata": {},
   "outputs": [
    {
     "data": {
      "text/plain": [
       "[{'text': 'il gatto fa scappare il cane ed ', 'type': 'word', 'color': ''},\n",
       " {'text': 'il topo si', 'type': 'keyword', 'color': '#ffe3e8'},\n",
       " {'text': ' nasconde.', 'type': 'word', 'color': ''}]"
      ]
     },
     "execution_count": 3,
     "metadata": {},
     "output_type": "execute_result"
    }
   ],
   "source": [
    "exp_dict[0]"
   ]
  },
  {
   "cell_type": "code",
   "execution_count": 4,
   "metadata": {},
   "outputs": [
    {
     "data": {
      "text/plain": [
       "[{'text': 'un cane mangiava la carota e poi è arrivato il gatto e ha fatto scappare molto velocemente il cane.cosa ne pensa ',\n",
       "  'type': 'word',\n",
       "  'color': ''},\n",
       " {'text': 'il topo si', 'type': 'keyword', 'color': '#ffe3e8'},\n",
       " {'text': ' domandò il vicino.', 'type': 'word', 'color': ''},\n",
       " {'text': 'il topo si', 'type': 'keyword', 'color': '#ffe3e8'},\n",
       " {'text': ' stava nascondendo da entrambi perchè era impaurito.',\n",
       "  'type': 'word',\n",
       "  'color': ''}]"
      ]
     },
     "execution_count": 4,
     "metadata": {},
     "output_type": "execute_result"
    }
   ],
   "source": [
    "exp_dict[1]"
   ]
  },
  {
   "cell_type": "code",
   "execution_count": null,
   "metadata": {},
   "outputs": [],
   "source": []
  }
 ],
 "metadata": {
  "kernelspec": {
   "display_name": "env",
   "language": "python",
   "name": "python3"
  },
  "language_info": {
   "codemirror_mode": {
    "name": "ipython",
    "version": 3
   },
   "file_extension": ".py",
   "mimetype": "text/x-python",
   "name": "python",
   "nbconvert_exporter": "python",
   "pygments_lexer": "ipython3",
   "version": "3.7.9"
  },
  "orig_nbformat": 4
 },
 "nbformat": 4,
 "nbformat_minor": 2
}
